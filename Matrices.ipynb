{
  "nbformat": 4,
  "nbformat_minor": 0,
  "metadata": {
    "colab": {
      "provenance": [],
      "authorship_tag": "ABX9TyMjWBSmx6Syx5XVAs0x3Ayc",
      "include_colab_link": true
    },
    "kernelspec": {
      "name": "python3",
      "display_name": "Python 3"
    },
    "language_info": {
      "name": "python"
    }
  },
  "cells": [
    {
      "cell_type": "markdown",
      "metadata": {
        "id": "view-in-github",
        "colab_type": "text"
      },
      "source": [
        "<a href=\"https://colab.research.google.com/github/JuanPabloBallesterosMaciasUis/Matrices_Colab/blob/main/Matrices.ipynb\" target=\"_parent\"><img src=\"https://colab.research.google.com/assets/colab-badge.svg\" alt=\"Open In Colab\"/></a>"
      ]
    },
    {
      "cell_type": "code",
      "execution_count": null,
      "metadata": {
        "id": "mDTK7fdjsz4h"
      },
      "outputs": [],
      "source": [
        "#Matrices \n",
        "M = [[1,2,3],[4,5,6],[7,8,9]]\n",
        "\n",
        "for i in range(3):\n",
        "  print()\n",
        "  for j in range(3):\n",
        "    print(M[i][j], end=\"\")\n"
      ]
    },
    {
      "cell_type": "code",
      "source": [
        "# Generacion de una matriz por indexacion\n",
        "import random\n",
        "\n",
        "#Dimensiones de la matriz\n",
        "m = int(input(\"No. de filas de la matriz: \"))\n",
        "n = int(input(\"No. de columnas dde la matriz: \"))\n",
        "\n",
        "#Creacion de la matriz\n",
        "M = []\n",
        "\n",
        "for i in range(m):\n",
        "  M.append ([])\n",
        "  for j in range(n):\n",
        "    M[i].append(random.randint(1,9))\n",
        "\n",
        "# Mosrar matriz\n",
        "for k in range(m):\n",
        "  print()\n",
        "  for j in range(n):\n",
        "    print(M[k][j], end = \"\\t\")\n",
        "\n",
        "#Suma de los elementos de la matriz\n",
        "suma = 0\n",
        "for i in range(m):\n",
        "  for j in range(n):\n",
        "    suma = suma + M[i][j]\n",
        "\n",
        "print(\"\\n\\nsuma de los elementos de la matriz: \", suma)"
      ],
      "metadata": {
        "id": "H3grTU9cvlP9"
      },
      "execution_count": null,
      "outputs": []
    },
    {
      "cell_type": "code",
      "source": [
        "# Generacion de una matriz por indexacion\n",
        "import random\n",
        "\n",
        "#Dimensiones de la matriz\n",
        "m = int(input(\"No. de filas de la matriz: \"))\n",
        "n = int(input(\"No. de columnas dde la matriz: \"))\n",
        "\n",
        "if m == n:\n",
        "\n",
        "  #Creacion de la matriz\n",
        "  M = []\n",
        "\n",
        "  for i in range(m):\n",
        "    M.append ([])\n",
        "    for j in range(n):\n",
        "      M[i].append(random.randint(1,9))\n",
        "\n",
        "  # Mosrar matriz\n",
        "  for k in range(m):\n",
        "    print()\n",
        "    for j in range(n):\n",
        "      print(M[k][j], end = \"\\t\")\n",
        "\n",
        "  #Suma de los elementos de la diagonal principal\n",
        "  suma = 0\n",
        "  for i in range(m):\n",
        "    for j in range(n):\n",
        "      if i == j:\n",
        "        suma = suma + M[i][j]\n",
        "\n",
        "  print(\"\\n\\nSuma de los elementos de la diagonal principal: \", suma)\n",
        "\n",
        "\n",
        "\n",
        "# suma de los elementos de la diagonal secundaria\n",
        "  suma_2 = 0\n",
        "  for i in range(m):\n",
        "    for j in range(n):\n",
        "      if i+j == m-1 :\n",
        "        suma_2 = suma_2 + M[i][j]\n",
        "  print(\"\\n\\nSuma de los elementos de la diagonal secundaria: \", suma_2)\n",
        "\n",
        "\n",
        "# Suma de los elementos de la triangular superior\n",
        "  suma_3 = 0\n",
        "  for i in range(m):\n",
        "    for j in range(n):\n",
        "      if i > j:\n",
        "        suma_3 = suma_3 + M[i][j]\n",
        "  print(\"\\n\\nSuma de los elementos de la triangular superior: \", suma_3)\n",
        "\n",
        "# suma de los elementos de la triangular inferior\n",
        "  suma_4 = 0\n",
        "  for i in range(m):\n",
        "    for j in range(n):\n",
        "      if i < j:\n",
        "        suma_4 = suma_4 + M[i][j]\n",
        "  print(\"\\n\\nSuma de los elementos de la triangular inferior: \", suma_4)\n",
        "#"
      ],
      "metadata": {
        "id": "t_bEENxYyrki",
        "colab": {
          "base_uri": "https://localhost:8080/"
        },
        "outputId": "24024667-d7bb-45c2-ec48-f4660560ef04"
      },
      "execution_count": null,
      "outputs": [
        {
          "output_type": "stream",
          "name": "stdout",
          "text": [
            "No. de filas de la matriz: 3\n",
            "No. de columnas dde la matriz: 3\n",
            "\n",
            "2\t6\t8\t\n",
            "6\t2\t7\t\n",
            "5\t7\t6\t\n",
            "\n",
            "Suma de los elementos de la diagonal principal:  10\n",
            "\n",
            "\n",
            "Suma de los elementos de la diagonal secundaria:  15\n",
            "\n",
            "\n",
            "Suma de los elementos de la triangular superior:  18\n",
            "\n",
            "\n",
            "Suma de los elementos de la triangular inferior:  21\n"
          ]
        }
      ]
    },
    {
      "cell_type": "code",
      "source": [
        "#  Apartir de una matriz crear y imprimir, asi : El vector B que contenga\n",
        "# todos los números pares de la matriz A , y el vector C que contenga los números impares.\n",
        "\n",
        "# Generacion de una matriz por indexacion\n",
        "import random\n",
        "\n",
        "#Dimensiones de la matriz\n",
        "m = int(input(\"No. de filas de la matriz: \"))\n",
        "n = int(input(\"No. de columnas dde la matriz: \"))\n",
        "\n",
        "  #Creacion de la matriz\n",
        "M = []\n",
        "\n",
        "for i in range(m):\n",
        "  M.append ([])\n",
        "  for j in range(n):\n",
        "    M[i].append(random.randint(1,9))\n",
        "\n",
        "# Mosrar matriz\n",
        "for k in range(m):\n",
        "  print()\n",
        "  for j in range(n):\n",
        "    print(M[k][j], end = \"\\t\")\n",
        "\n",
        "#Pares e impares de la matriz\n",
        "vector_B = []\n",
        "vector_C = []\n",
        "for i in range(m):\n",
        "  for j in range(n):\n",
        "    if M[i][j]%2 == 0:\n",
        "      vector_B.append(M[i][j])\n",
        "    else:\n",
        "      vector_C.append(M[i][j])\n",
        "print()\n",
        "print()\n",
        "print(\"El vector B: \",vector_B, end = \"\\t\")\n",
        "print()\n",
        "print(\"El vector C: \",vector_C, end = \"\\t\")\n",
        "print()\n",
        "\n",
        "# IMPORTANTE\n",
        "# M[i][j] TOMA EL PRIMER VALOR DE LA POSICION DE LA MATRIZ\n",
        "# M[i] IMPRIME LA LISTA (TOMA TODOS LOS VALORES DE LA PRIMERA FILA)\n"
      ],
      "metadata": {
        "id": "pgLGJIRv4LFS",
        "colab": {
          "base_uri": "https://localhost:8080/"
        },
        "outputId": "103b58fc-f17e-4c64-b856-31d548c879eb"
      },
      "execution_count": 21,
      "outputs": [
        {
          "output_type": "stream",
          "name": "stdout",
          "text": [
            "No. de filas de la matriz: 3\n",
            "No. de columnas dde la matriz: 3\n",
            "\n",
            "6\t2\t2\t\n",
            "1\t2\t5\t\n",
            "9\t5\t2\t\n",
            "\n",
            "El vector B  [6, 2, 2, 2, 2]\t\n",
            "El vector C  [1, 5, 9, 5]\t\n"
          ]
        }
      ]
    },
    {
      "cell_type": "code",
      "source": [
        "#sumar el perisferio de la matriz\n",
        "\n",
        "# Generacion de una matriz por indexacion\n",
        "import random\n",
        "\n",
        "#Dimensiones de la matriz\n",
        "m = int(input(\"No. de filas de la matriz: \"))\n",
        "n = int(input(\"No. de columnas dde la matriz: \"))\n",
        "\n",
        "  #Creacion de la matriz\n",
        "M = []\n",
        "\n",
        "for i in range(m):\n",
        "  M.append ([])\n",
        "  for j in range(n):\n",
        "    M[i].append(random.randint(1,9))\n",
        "\n",
        "# Mosrar matriz\n",
        "for k in range(m):\n",
        "  print()\n",
        "  for j in range(n):\n",
        "    print(M[k][j], end = \"\\t\")\n",
        "\n",
        "# Perisferio\n",
        "suma = 0\n",
        "for i in range(m):\n",
        "  for j in range(n):\n",
        "    if i == 0 or j == 0 or i == m-1 or j == n-1:\n",
        "      suma = suma + M[i][j]\n",
        "\n",
        "print(\"La suma del perisferio de la matriz es: \",suma)\n"
      ],
      "metadata": {
        "id": "klekc-4z5mLX",
        "colab": {
          "base_uri": "https://localhost:8080/"
        },
        "outputId": "082c33d7-3f02-4c1e-fd6f-c28bee78e6f4"
      },
      "execution_count": 23,
      "outputs": [
        {
          "output_type": "stream",
          "name": "stdout",
          "text": [
            "No. de filas de la matriz: 3\n",
            "No. de columnas dde la matriz: 3\n",
            "\n",
            "4\t5\t2\t\n",
            "9\t8\t9\t\n",
            "5\t3\t6\tLa suma del perisferio de la matriz es:  43\n"
          ]
        }
      ]
    }
  ]
}